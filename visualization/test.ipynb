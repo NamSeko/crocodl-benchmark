{
 "cells": [
  {
   "cell_type": "code",
   "execution_count": 1,
   "id": "c738e614",
   "metadata": {},
   "outputs": [
    {
     "name": "stdout",
     "output_type": "stream",
     "text": [
      "Jupyter environment detected. Enabling Open3D WebVisualizer.\n",
      "[Open3D INFO] WebRTC GUI backend enabled.\n",
      "[Open3D INFO] WebRTCWindowSystem: HTTP handshake server disabled.\n"
     ]
    }
   ],
   "source": [
    "from visualization import VisualizeCamPose\n",
    "from get_data import GetData\n",
    "from pathlib import Path"
   ]
  },
  {
   "cell_type": "code",
   "execution_count": 2,
   "id": "073c087c",
   "metadata": {},
   "outputs": [],
   "source": [
    "DATA_DIR = Path('/home/namtt/WorkSpace/VisualLocalization/capture')"
   ]
  },
  {
   "cell_type": "code",
   "execution_count": 3,
   "id": "866407e4",
   "metadata": {},
   "outputs": [],
   "source": [
    "path_sensor_ios = DATA_DIR / 'ios_map/sensors.txt'\n",
    "path_trajectories_ios = DATA_DIR / 'ios_map/trajectories.txt'\n",
    "path_transform_ios = DATA_DIR / 'ios_map/transforms.txt'\n",
    "ios = GetData(sensor_path=path_sensor_ios,\n",
    "              trajectories_path=path_trajectories_ios,\n",
    "              transform_path=path_transform_ios)\n",
    "ios_dataset = ios.get_data()"
   ]
  },
  {
   "cell_type": "code",
   "execution_count": 4,
   "id": "4b546518",
   "metadata": {},
   "outputs": [],
   "source": [
    "path_sensor_spot = DATA_DIR / 'spot_map/sensors.txt'\n",
    "path_trajectories_spot = DATA_DIR / 'spot_map/trajectories.txt'\n",
    "path_transform_spot = DATA_DIR / 'spot_map/transforms.txt'\n",
    "path_rig_spot = DATA_DIR / 'spot_map/rigs.txt'\n",
    "spot = GetData(sensor_path=path_sensor_spot,\n",
    "              trajectories_path=path_trajectories_spot,\n",
    "              transform_path=path_transform_spot,\n",
    "              rig_path=path_rig_spot)\n",
    "spot_dataset = spot.get_data()"
   ]
  },
  {
   "cell_type": "code",
   "execution_count": 5,
   "id": "38cab82c",
   "metadata": {},
   "outputs": [],
   "source": [
    "path_sensor_hl = DATA_DIR / 'hl_map/sensors.txt'\n",
    "path_trajectories_hl = DATA_DIR / 'hl_map/trajectories.txt'\n",
    "path_transform_hl = DATA_DIR / 'hl_map/transforms.txt'\n",
    "path_rig_hl = DATA_DIR / 'hl_map/rigs.txt'\n",
    "hl = GetData(sensor_path=path_sensor_hl,\n",
    "              trajectories_path=path_trajectories_hl,\n",
    "              transform_path=path_transform_hl,\n",
    "              rig_path=path_rig_hl)\n",
    "hl_dataset = hl.get_data()"
   ]
  },
  {
   "cell_type": "code",
   "execution_count": 6,
   "id": "5d8968fa",
   "metadata": {},
   "outputs": [],
   "source": [
    "a = list(spot_dataset.keys())\n",
    "b = list(hl_dataset.keys())\n",
    "c = list(ios_dataset.keys())"
   ]
  },
  {
   "cell_type": "code",
   "execution_count": 17,
   "id": "b7ad0e6f",
   "metadata": {},
   "outputs": [
    {
     "name": "stdout",
     "output_type": "stream",
     "text": [
      "Global View\n"
     ]
    }
   ],
   "source": [
    "vis = VisualizeCamPose(model='global')\n",
    "# vis = VisualizeCamPose()"
   ]
  },
  {
   "cell_type": "code",
   "execution_count": 22,
   "id": "aecb12c0",
   "metadata": {},
   "outputs": [],
   "source": [
    "# vis.visualization(spot_dataset[a[10]])\n",
    "# vis.visualization(hl_dataset[b[10]])\n",
    "# vis.visualization(ios_dataset[c[10]])\n",
    "# vis.visualization([hl_dataset['363819555'], ios_dataset['5095000490']])\n",
    "vis.visualization([hl_dataset[b[8]], hl_dataset[b[3]], hl_dataset[b[7]]])\n",
    "# vis.visualization([ios_dataset[c[8]], ios_dataset[c[30]]])"
   ]
  },
  {
   "cell_type": "code",
   "execution_count": null,
   "id": "bb2db0af",
   "metadata": {},
   "outputs": [],
   "source": [
    "path_sensor_hl = DATA_DIR / 'ARCHE_D2/sessions/hl_query/sensors.txt'\n",
    "path_rig_hl = DATA_DIR / 'ARCHE_D2/sessions/hl_query/rigs.txt'\n",
    "# path_transform_hl = DATA_DIR / 'ARCHE_D2/sessions/hl_map/transforms.txt'\n",
    "\n",
    "\n",
    "path_trajectories_hl_src = DATA_DIR / 'ARCHE_D2/sessions/hl_query/proc/alignment_trajectories.txt'\n",
    "hl_src = GetData(sensor_path=path_sensor_hl,\n",
    "              trajectories_path=path_trajectories_hl_src,\n",
    "              transform_path=path_transform_hl,\n",
    "              rig_path=path_rig_hl)\n",
    "hl_dataset = hl_src.get_data()\n",
    "\n",
    "path_trajectories_hl_pred = DATA_DIR / 'ARCHE_D2/sessions/hl_query/proc/alignment_trajectories.txt'\n",
    "hl_pred = GetData(sensor_path=path_sensor_hl,\n",
    "              trajectories_path=path_trajectories_hl_pred,\n",
    "              rig_path=path_rig_hl)\n",
    "hl_pred_dataset = hl_pred.get_data()"
   ]
  },
  {
   "cell_type": "code",
   "execution_count": 7,
   "id": "2fce01f1",
   "metadata": {},
   "outputs": [
    {
     "name": "stdout",
     "output_type": "stream",
     "text": [
      "Global View\n"
     ]
    }
   ],
   "source": [
    "vis = VisualizeCamPose(model='global')\n",
    "vis.visualization([hl_dataset['78133259'], hl_pred_dataset['78133259']])"
   ]
  }
 ],
 "metadata": {
  "kernelspec": {
   "display_name": "croco",
   "language": "python",
   "name": "python3"
  },
  "language_info": {
   "codemirror_mode": {
    "name": "ipython",
    "version": 3
   },
   "file_extension": ".py",
   "mimetype": "text/x-python",
   "name": "python",
   "nbconvert_exporter": "python",
   "pygments_lexer": "ipython3",
   "version": "3.10.18"
  }
 },
 "nbformat": 4,
 "nbformat_minor": 5
}
