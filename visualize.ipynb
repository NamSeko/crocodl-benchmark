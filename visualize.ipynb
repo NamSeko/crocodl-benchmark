{
 "cells": [
  {
   "cell_type": "code",
   "execution_count": 2,
   "id": "05e6e8a5",
   "metadata": {},
   "outputs": [],
   "source": [
    "import json\n",
    "import numpy as np\n",
    "from visualization import VisualizeCamPose\n",
    "\n",
    "def load_dict_from_json(path):\n",
    "    with open(path, \"r\") as f:\n",
    "        data = json.load(f)\n",
    "\n",
    "    def convert_arrays(d):\n",
    "        if isinstance(d, dict):\n",
    "            return {k: convert_arrays(v) for k, v in d.items()}\n",
    "        elif isinstance(d, list):\n",
    "            if all(isinstance(x, (int, float)) for x in d):\n",
    "                return np.array(d)\n",
    "            if all(isinstance(x, list) for x in d):\n",
    "                return np.array(d)\n",
    "            return [convert_arrays(x) for x in d]\n",
    "        else:\n",
    "            return d\n",
    "\n",
    "    return convert_arrays(data)\n",
    "\n",
    "hydro_ios_dict = load_dict_from_json('../capture/hydro_ios.json')\n",
    "hydro_hl_dict = load_dict_from_json('../capture/hydro_hl.json')\n",
    "hydro_spot_dict = load_dict_from_json('../capture/hydro_spot.json')"
   ]
  },
  {
   "cell_type": "code",
   "execution_count": 8,
   "id": "be112757",
   "metadata": {},
   "outputs": [],
   "source": [
    "visual = VisualizeCamPose()\n",
    "hl_1 = hydro_hl_dict[np.random.choice(list(hydro_hl_dict.keys()))]\n",
    "visual.visualization(hl_1)"
   ]
  },
  {
   "cell_type": "code",
   "execution_count": 9,
   "id": "1ed49e22",
   "metadata": {},
   "outputs": [],
   "source": [
    "visual = VisualizeCamPose()\n",
    "spot_1 = hydro_spot_dict[np.random.choice(list(hydro_spot_dict.keys()))]\n",
    "visual.visualization(spot_1)"
   ]
  },
  {
   "cell_type": "code",
   "execution_count": 10,
   "id": "6677d602",
   "metadata": {},
   "outputs": [],
   "source": [
    "visual = VisualizeCamPose()\n",
    "ios_1 = hydro_ios_dict[np.random.choice(list(hydro_ios_dict.keys()))]\n",
    "visual.visualization(ios_1)"
   ]
  },
  {
   "cell_type": "code",
   "execution_count": 11,
   "id": "f9978606",
   "metadata": {},
   "outputs": [],
   "source": [
    "visual = VisualizeCamPose()\n",
    "hl_1 = hydro_hl_dict[np.random.choice(list(hydro_hl_dict.keys()))]\n",
    "spot_1 = hydro_spot_dict[np.random.choice(list(hydro_spot_dict.keys()))]\n",
    "ios_1 = hydro_ios_dict[np.random.choice(list(hydro_ios_dict.keys()))]\n",
    "visual.visualization([hl_1, spot_1, ios_1])"
   ]
  }
 ],
 "metadata": {
  "kernelspec": {
   "display_name": "croco",
   "language": "python",
   "name": "python3"
  },
  "language_info": {
   "codemirror_mode": {
    "name": "ipython",
    "version": 3
   },
   "file_extension": ".py",
   "mimetype": "text/x-python",
   "name": "python",
   "nbconvert_exporter": "python",
   "pygments_lexer": "ipython3",
   "version": "3.10.18"
  }
 },
 "nbformat": 4,
 "nbformat_minor": 5
}
